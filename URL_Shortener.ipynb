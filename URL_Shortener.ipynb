{
  "nbformat": 4,
  "nbformat_minor": 0,
  "metadata": {
    "colab": {
      "provenance": []
    },
    "kernelspec": {
      "name": "python3",
      "display_name": "Python 3"
    },
    "language_info": {
      "name": "python"
    }
  },
  "cells": [
    {
      "cell_type": "code",
      "execution_count": 1,
      "metadata": {
        "colab": {
          "base_uri": "https://localhost:8080/"
        },
        "id": "Y3y8_A-zpvkN",
        "outputId": "fef7c341-7d71-4f2a-a7d5-aa67d15617a7"
      },
      "outputs": [
        {
          "output_type": "stream",
          "name": "stdout",
          "text": [
            " * Serving Flask app '__main__'\n",
            " * Debug mode: on\n"
          ]
        },
        {
          "output_type": "stream",
          "name": "stderr",
          "text": [
            "INFO:werkzeug:\u001b[31m\u001b[1mWARNING: This is a development server. Do not use it in a production deployment. Use a production WSGI server instead.\u001b[0m\n",
            " * Running on http://127.0.0.1:5000\n",
            "INFO:werkzeug:\u001b[33mPress CTRL+C to quit\u001b[0m\n",
            "INFO:werkzeug: * Restarting with stat\n"
          ]
        }
      ],
      "source": [
        "from flask import Flask, redirect, render_template, request\n",
        "import string\n",
        "import random\n",
        "\n",
        "app = Flask(__name__)\n",
        "\n",
        "# Dictionary to store the mappings of short codes to original URLs\n",
        "url_mapping = {}\n",
        "\n",
        "\n",
        "def generate_short_code():\n",
        "    \"\"\"Generate a random short code.\"\"\"\n",
        "    characters = string.ascii_letters + string.digits\n",
        "    short_code = ''.join(random.choice(characters) for _ in range(6))\n",
        "    return short_code\n",
        "\n",
        "\n",
        "@app.route('/', methods=['GET', 'POST'])\n",
        "def home():\n",
        "    if request.method == 'POST':\n",
        "        original_url = request.form['url']\n",
        "        short_code = generate_short_code()\n",
        "\n",
        "        url_mapping[short_code] = original_url\n",
        "\n",
        "        short_url = request.host_url + short_code\n",
        "        return render_template('index.html', short_url=short_url)\n",
        "\n",
        "    return render_template('index.html')\n",
        "\n",
        "\n",
        "@app.route('/<short_code>')\n",
        "def redirect_to_original_url(short_code):\n",
        "    if short_code in url_mapping:\n",
        "        original_url = url_mapping[short_code]\n",
        "        return redirect(original_url)\n",
        "    else:\n",
        "        return \"Short URL not found.\"\n",
        "\n",
        "\n",
        "if __name__ == '__main__':\n",
        "    app.run(debug=True)"
      ]
    }
  ]
}